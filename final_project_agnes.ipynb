{
  "cells": [
    {
      "cell_type": "code",
      "execution_count": 2,
      "metadata": {
        "id": "_B6_Y8bvwUxv"
      },
      "outputs": [],
      "source": [
        "import numpy as np\n",
        "import matplotlib.pyplot as plt\n",
        "from mpl_toolkits.axes_grid1 import ImageGrid\n",
        "import os\n",
        "from PIL import Image\n",
        "import torch\n",
        "import torch.nn as nn\n",
        "from torch.optim import SGD, Adam\n",
        "import torchvision\n",
        "import torchvision.transforms as transforms\n",
        "from torch.utils.data import Dataset\n",
        "from torchsummary import summary\n",
        "from torchvision import datasets\n",
        "import urllib\n",
        "import torchmetrics\n",
        "from torchmetrics.classification import MulticlassAUROC\n",
        "from torchmetrics.classification import MulticlassF1Score"
      ]
    },
    {
      "cell_type": "code",
      "execution_count": 4,
      "metadata": {
        "colab": {
          "base_uri": "https://localhost:8080/"
        },
        "id": "3YlYhoZPohol",
        "outputId": "79623dd1-94af-4ee9-b029-76a883f481d7"
      },
      "outputs": [
        {
          "name": "stderr",
          "output_type": "stream",
          "text": [
            "Using cache found in /home/valicia/.cache/torch/hub/pytorch_vision_v0.10.0\n"
          ]
        },
        {
          "name": "stdout",
          "output_type": "stream",
          "text": [
            "AlexNet(\n",
            "  (features): Sequential(\n",
            "    (0): Conv2d(3, 64, kernel_size=(11, 11), stride=(4, 4), padding=(2, 2))\n",
            "    (1): ReLU(inplace=True)\n",
            "    (2): MaxPool2d(kernel_size=3, stride=2, padding=0, dilation=1, ceil_mode=False)\n",
            "    (3): Conv2d(64, 192, kernel_size=(5, 5), stride=(1, 1), padding=(2, 2))\n",
            "    (4): ReLU(inplace=True)\n",
            "    (5): MaxPool2d(kernel_size=3, stride=2, padding=0, dilation=1, ceil_mode=False)\n",
            "    (6): Conv2d(192, 384, kernel_size=(3, 3), stride=(1, 1), padding=(1, 1))\n",
            "    (7): ReLU(inplace=True)\n",
            "    (8): Conv2d(384, 256, kernel_size=(3, 3), stride=(1, 1), padding=(1, 1))\n",
            "    (9): ReLU(inplace=True)\n",
            "    (10): Conv2d(256, 256, kernel_size=(3, 3), stride=(1, 1), padding=(1, 1))\n",
            "    (11): ReLU(inplace=True)\n",
            "    (12): MaxPool2d(kernel_size=3, stride=2, padding=0, dilation=1, ceil_mode=False)\n",
            "  )\n",
            "  (avgpool): AdaptiveAvgPool2d(output_size=(6, 6))\n",
            "  (classifier): Sequential(\n",
            "    (0): Dropout(p=0.5, inplace=False)\n",
            "    (1): Linear(in_features=9216, out_features=4096, bias=True)\n",
            "    (2): ReLU(inplace=True)\n",
            "    (3): Dropout(p=0.5, inplace=False)\n",
            "    (4): Linear(in_features=4096, out_features=4096, bias=True)\n",
            "    (5): ReLU(inplace=True)\n",
            "    (6): Linear(in_features=4096, out_features=1000, bias=True)\n",
            "  )\n",
            ")\n"
          ]
        },
        {
          "data": {
            "text/plain": [
              "AlexNet(\n",
              "  (features): Sequential(\n",
              "    (0): Conv2d(3, 64, kernel_size=(11, 11), stride=(4, 4), padding=(2, 2))\n",
              "    (1): ReLU(inplace=True)\n",
              "    (2): MaxPool2d(kernel_size=3, stride=2, padding=0, dilation=1, ceil_mode=False)\n",
              "    (3): Conv2d(64, 192, kernel_size=(5, 5), stride=(1, 1), padding=(2, 2))\n",
              "    (4): ReLU(inplace=True)\n",
              "    (5): MaxPool2d(kernel_size=3, stride=2, padding=0, dilation=1, ceil_mode=False)\n",
              "    (6): Conv2d(192, 384, kernel_size=(3, 3), stride=(1, 1), padding=(1, 1))\n",
              "    (7): ReLU(inplace=True)\n",
              "    (8): Conv2d(384, 256, kernel_size=(3, 3), stride=(1, 1), padding=(1, 1))\n",
              "    (9): ReLU(inplace=True)\n",
              "    (10): Conv2d(256, 256, kernel_size=(3, 3), stride=(1, 1), padding=(1, 1))\n",
              "    (11): ReLU(inplace=True)\n",
              "    (12): MaxPool2d(kernel_size=3, stride=2, padding=0, dilation=1, ceil_mode=False)\n",
              "  )\n",
              "  (avgpool): AdaptiveAvgPool2d(output_size=(6, 6))\n",
              "  (classifier): Sequential(\n",
              "    (0): Linear(in_features=9216, out_features=4096, bias=True)\n",
              "    (1): ReLU()\n",
              "    (2): Dropout(p=0.2, inplace=False)\n",
              "    (3): Linear(in_features=4096, out_features=1024, bias=True)\n",
              "    (4): ReLU()\n",
              "    (5): Dropout(p=0.2, inplace=False)\n",
              "    (6): Linear(in_features=1024, out_features=256, bias=True)\n",
              "    (7): ReLU()\n",
              "    (8): Linear(in_features=256, out_features=4, bias=True)\n",
              "  )\n",
              ")"
            ]
          },
          "execution_count": 4,
          "metadata": {},
          "output_type": "execute_result"
        }
      ],
      "source": [
        "device = 'cuda' if torch.cuda.is_available() else 'cpu'\n",
        "\n",
        "#modify the fully connected layer of AlexNet\n",
        "\n",
        "alex_net = torch.hub.load('pytorch/vision:v0.10.0', 'alexnet', weights='DEFAULT')\n",
        "print(alex_net)\n",
        "for param in alex_net.parameters():\n",
        "    param.requires_grad = False\n",
        "alex_net.classifier = nn.Sequential(\n",
        "    nn.Linear(in_features=9216, out_features=4096),\n",
        "    nn.ReLU(),\n",
        "    nn.Dropout(0.2),\n",
        "    nn.Linear(in_features=4096, out_features=1024),\n",
        "    nn.ReLU(),\n",
        "    nn.Dropout(0.2),\n",
        "    nn.Linear(in_features=1024, out_features=256),\n",
        "    nn.ReLU(),\n",
        "    nn.Linear(in_features=256, out_features=4)\n",
        ")\n",
        "alex_net.cuda()\n"
      ]
    },
    {
      "cell_type": "code",
      "execution_count": 12,
      "metadata": {
        "id": "gan11YZJnci8"
      },
      "outputs": [],
      "source": [
        "def train_batch(x, y, model, opt, loss_fn):\n",
        "    model.train()\n",
        "    opt.zero_grad()                    # Flush memory  \n",
        "    batch_loss = loss_fn(model(x), y)  # Compute loss\n",
        "    batch_loss.backward()              # Compute gradients\n",
        "    opt.step()                         # Make a GD step\n",
        "    \n",
        "    return batch_loss.detach().cpu().numpy()"
      ]
    },
    {
      "cell_type": "code",
      "execution_count": 13,
      "metadata": {
        "id": "LRpB-_ySnjeX"
      },
      "outputs": [],
      "source": [
        "@torch.no_grad()\n",
        "def accuracy(x, y, model):\n",
        "  \"\"\"\n",
        "  Calculate and return the accuracy. \n",
        "  x: features\n",
        "  y: labels\n",
        "  Return: accuracy\n",
        "  \"\"\"\n",
        "  model.eval()\n",
        "  prediction = model(x)\n",
        "  argmaxes = prediction.argmax(dim=1) # get the predicted label \n",
        "  f1 = MulticlassF1Score(num_classes=4,average=None).cuda()\n",
        "  f1_score = f1(prediction,y)\n",
        "  auc = MulticlassAUROC(num_classes=4, average=None, thresholds=None).cuda()\n",
        "  auc_score = auc(prediction,y)\n",
        "  s = torch.sum((argmaxes == y).float())/len(y)  # calculate test accuracy\n",
        "  return s.cpu().numpy(),f1_score.cpu().numpy(),auc_score.cpu().numpy()"
      ]
    },
    {
      "cell_type": "code",
      "execution_count": 14,
      "metadata": {
        "id": "lo-rrRX8r0nQ"
      },
      "outputs": [],
      "source": [
        "def plot(losses,accuracies,n_epochs):\n",
        "  \"\"\"\n",
        "  Plot the training accuracies and losses over number of epochs \n",
        "  losses: a list of training loss\n",
        "  accuracies: a list of training accuracy\n",
        "  n_epochs: a list of number of epochs\n",
        "  \"\"\"\n",
        "  plt.figure(figsize=(13,3))\n",
        "  plt.subplot(121)\n",
        "  plt.title('Training Loss value over epochs')\n",
        "  plt.plot(np.arange(n_epochs) + 1, losses)\n",
        "  plt.subplot(122)\n",
        "  plt.title('Training Accuracy value over epochs')\n",
        "  plt.plot(np.arange(n_epochs) + 1, accuracies)"
      ]
    },
    {
      "cell_type": "code",
      "execution_count": 15,
      "metadata": {},
      "outputs": [],
      "source": [
        "def plot_f1_auc(f1,auc,n_epochs):\n",
        "  \"\"\"\n",
        "  Plot the training accuracies and losses over number of epochs \n",
        "  losses: a list of training loss\n",
        "  accuracies: a list of training accuracy\n",
        "  n_epochs: a list of number of epochs\n",
        "  \"\"\"\n",
        "  fig, axs = plt.subplots(2, 2)\n",
        "  axs[0, 0].plot(np.arange(n_epochs) + 1, f1[...,0])\n",
        "  axs[0, 0].set_title('Mild Demented')\n",
        "  axs[0, 1].plot(np.arange(n_epochs) + 1, f1[...,1])\n",
        "  axs[0, 1].set_title('Moderate Demented')\n",
        "  axs[1, 0].plot(np.arange(n_epochs) + 1, f1[...,2])\n",
        "  axs[1, 0].set_title('Non Demented')\n",
        "  axs[1, 1].plot(np.arange(n_epochs) + 1, f1[...,3])\n",
        "  axs[1, 1].set_title('Mild Demented')\n",
        "\n",
        "  for ax in axs.flat:\n",
        "    ax.set(xlabel='Epoch', ylabel='F1 Score')\n",
        "  \n",
        "  for ax in axs.flat:\n",
        "    ax.label_outer()\n",
        "  \n",
        "  fig2, axs2 = plt.subplots(2, 2)\n",
        "  axs2[0, 0].plot(np.arange(n_epochs) + 1, auc[...,0])\n",
        "  axs2[0, 0].set_title('Mild Demented')\n",
        "  axs2[0, 1].plot(np.arange(n_epochs) + 1, auc[...,1])\n",
        "  axs2[0, 1].set_title('Moderate Demented')\n",
        "  axs2[1, 0].plot(np.arange(n_epochs) + 1, auc[...,2])\n",
        "  axs2[1, 0].set_title('Non Demented')\n",
        "  axs2[1, 1].plot(np.arange(n_epochs) + 1,auc[...,3])\n",
        "  axs2[1, 1].set_title('Mild Demented')\n",
        "\n",
        "  for ax in axs2.flat:\n",
        "    ax.set(xlabel='Epoch', ylabel='AUC')\n",
        "  \n",
        "  for ax in axs2.flat:\n",
        "    ax.label_outer()\n",
        "  plt.plot()"
      ]
    },
    {
      "cell_type": "code",
      "execution_count": 16,
      "metadata": {
        "id": "KJyen-_KLa66"
      },
      "outputs": [],
      "source": [
        "def train(trainset, testset, model, name):\n",
        "  \"\"\"\n",
        "  Train the model with training dataset, and return the training losses, training\n",
        "    accuracies, and number of epochs. \n",
        "  trainset: the processed train data with wanted dimensions\n",
        "  testset:  the processed test data with wanted dimensions\n",
        "  model: a torchvision model\n",
        "  name: the name of the model in string\n",
        "  Return: Testing accuracy, training losses, training accuracies, and number of epochs\n",
        "  \"\"\"\n",
        "  device = 'cuda' if torch.cuda.is_available() else 'cpu'\n",
        "\n",
        "  # load the data\n",
        "  train_dl = torch.utils.data.DataLoader(trainset, batch_size=32,\n",
        "                                          shuffle=True,drop_last=True)\n",
        "  test_dl = torch.utils.data.DataLoader(testset, batch_size=32,\n",
        "                                         shuffle=False,drop_last=True)\n",
        "\n",
        "  # set up loss function and optimization function\n",
        "  loss_func = nn.CrossEntropyLoss()\n",
        "  opt = Adam(model.parameters(), lr=1e-3)\n",
        "\n",
        "  # train and record the loss, accuracies for each training epoch\n",
        "  losses, accuracies, n_epochs = [], [], 50\n",
        "  for epoch in range(n_epochs):\n",
        "    running_vloss = 0.0\n",
        "    print(f\"Running epoch {epoch + 1} of {n_epochs}\")\n",
        "  \n",
        "    epoch_losses, epoch_accuracies  = [], []\n",
        "    for batch in train_dl:\n",
        "      # calculate loss\n",
        "        x, y = batch\n",
        "        x, y = x.to(device), y.to(device)\n",
        "        batch_loss = train_batch(x, y, model, opt, loss_func)\n",
        "        epoch_losses.append(batch_loss)\n",
        "    epoch_loss = np.mean(epoch_losses)\n",
        "\n",
        "    for batch in train_dl:\n",
        "      # calcualte accuracy \n",
        "        x, y = batch\n",
        "        x, y = x.to(device), y.to(device)\n",
        "        batch_acc, _, _ = accuracy(x, y, model)\n",
        "        epoch_accuracies.append(batch_acc)\n",
        "    \n",
        "    epoch_accuracy = np.mean(epoch_accuracies)\n",
        "    \n",
        "    \n",
        "    print(f\"The training loss and training accuracy is {epoch_loss} and {epoch_accuracy}\")\n",
        "    losses.append(epoch_loss)\n",
        "    accuracies.append(epoch_accuracy)\n",
        "\n",
        "  # calculate the testing accuracy using the model we just trained\n",
        "  epoch_accuracies = []\n",
        "  batch_num = 0.0\n",
        "  f1_batch, auc_batch = 0, 0\n",
        "  for ix, batch in enumerate(test_dl):\n",
        "      x, y = batch\n",
        "      x, y = x.to(device), y.to(device)\n",
        "      batch_acc, batch_f1, batch_auc = accuracy(x, y, model)\n",
        "      epoch_accuracies.append(batch_acc)\n",
        "      f1_batch += batch_f1\n",
        "      auc_batch += batch_auc\n",
        "      batch_num += 1\n",
        "  print(f\"batch number is {batch_num}\")\n",
        "  f1_batch=f1_batch/batch_num\n",
        "  auc_batch=auc_batch/batch_num   \n",
        "  # save the model for future uses\n",
        "  torch.save(model.state_dict(), name+\".pth\")\n",
        "  print(f\"Test accuracy: {np.mean(epoch_accuracies)}\")\n",
        "  return np.mean(epoch_accuracies), losses, accuracies, n_epochs, f1_batch, auc_batch"
      ]
    },
    {
      "cell_type": "code",
      "execution_count": 17,
      "metadata": {
        "id": "i9rUp7_0rhL9"
      },
      "outputs": [],
      "source": [
        "def main():\n",
        "  device = 'cuda' if torch.cuda.is_available() else 'cpu'\n",
        "  # transform the images to match the ImageNet image requirementa\n",
        "  transform = transforms.Compose(\n",
        "      [transforms.Resize((256,256)),\n",
        "       transforms.CenterCrop(224),\n",
        "       transforms.RandomHorizontalFlip(0.4),\n",
        "       transforms.RandomAffine(180,translate=(0.3,0.3), shear=10),\n",
        "       transforms.ToTensor(),\n",
        "       transforms.Normalize((0.485, 0.456, 0.406), (0.229, 0.224, 0.225))\n",
        "       ]) \n",
        "  trainset = torchvision.datasets.ImageFolder(root='data/train',transform=transform)\n",
        "\n",
        "  testset = torchvision.datasets.ImageFolder(root='data/test',transform=transform)\n",
        "  # a list of initialized models\n",
        "  models = [alex_net]\n",
        "  # the names of the models\n",
        "  names = [\"alex_net\"]\n",
        "  \n",
        "\n",
        "  test_acc = [] # store the testing accuracy\n",
        "  for model, name in zip(models,names):\n",
        "    acc, losses , accuracies, n_epochs, f1_score, auc_score = train(trainset,testset,model, name)\n",
        "    test_acc.append(acc)\n",
        "    plot(losses, accuracies, n_epochs)\n",
        "    print(f\"f1 scores is {f1_score}\")\n",
        "    print(f\"AUC is {auc_score}\")\n",
        "    plt.show()\n",
        "  \n",
        "  print(f\"The test accuracy is: {test_acc}\")"
      ]
    },
    {
      "cell_type": "code",
      "execution_count": 18,
      "metadata": {
        "id": "DuZHzPT1smqK"
      },
      "outputs": [
        {
          "name": "stdout",
          "output_type": "stream",
          "text": [
            "Running epoch 1 of 50\n"
          ]
        },
        {
          "name": "stderr",
          "output_type": "stream",
          "text": [
            "/home/valicia/miniconda3/envs/ml/lib/python3.9/site-packages/torchmetrics/utilities/prints.py:36: UserWarning: No positive samples in targets, true positive value should be meaningless. Returning zero tensor in true positive score\n",
            "  warnings.warn(*args, **kwargs)\n"
          ]
        },
        {
          "name": "stdout",
          "output_type": "stream",
          "text": [
            "The training loss and training accuracy is 1.0918910503387451 and 0.49980467557907104\n",
            "Running epoch 2 of 50\n",
            "The training loss and training accuracy is 0.9574235677719116 and 0.558789074420929\n",
            "Running epoch 3 of 50\n",
            "The training loss and training accuracy is 0.9324415326118469 and 0.534960925579071\n",
            "Running epoch 4 of 50\n",
            "The training loss and training accuracy is 0.9389640092849731 and 0.562304675579071\n",
            "Running epoch 5 of 50\n",
            "The training loss and training accuracy is 0.9142345190048218 and 0.5570312738418579\n",
            "Running epoch 6 of 50\n",
            "The training loss and training accuracy is 0.9185705184936523 and 0.5673828125\n",
            "Running epoch 7 of 50\n",
            "The training loss and training accuracy is 0.9047998189926147 and 0.5560547113418579\n",
            "Running epoch 8 of 50\n",
            "The training loss and training accuracy is 0.9066964983940125 and 0.559374988079071\n",
            "Running epoch 9 of 50\n",
            "The training loss and training accuracy is 0.9016937017440796 and 0.5658203363418579\n",
            "Running epoch 10 of 50\n",
            "The training loss and training accuracy is 0.9075508117675781 and 0.5712890625\n",
            "Running epoch 11 of 50\n",
            "The training loss and training accuracy is 0.9052314758300781 and 0.560742199420929\n",
            "Running epoch 12 of 50\n",
            "The training loss and training accuracy is 0.9007669687271118 and 0.563281238079071\n",
            "Running epoch 13 of 50\n",
            "The training loss and training accuracy is 0.8987871408462524 and 0.562304675579071\n",
            "Running epoch 14 of 50\n",
            "The training loss and training accuracy is 0.9023316502571106 and 0.5601562261581421\n",
            "Running epoch 15 of 50\n",
            "The training loss and training accuracy is 0.8976090550422668 and 0.5708984136581421\n",
            "Running epoch 16 of 50\n",
            "The training loss and training accuracy is 0.8971564173698425 and 0.5628906488418579\n",
            "Running epoch 17 of 50\n",
            "The training loss and training accuracy is 0.8891348838806152 and 0.5677734613418579\n",
            "Running epoch 18 of 50\n",
            "The training loss and training accuracy is 0.8910822868347168 and 0.5601562261581421\n",
            "Running epoch 19 of 50\n",
            "The training loss and training accuracy is 0.8821083307266235 and 0.5707031488418579\n",
            "Running epoch 20 of 50\n",
            "The training loss and training accuracy is 0.8868415951728821 and 0.5650390386581421\n",
            "Running epoch 21 of 50\n",
            "The training loss and training accuracy is 0.8795493841171265 and 0.56640625\n",
            "Running epoch 22 of 50\n",
            "The training loss and training accuracy is 0.887712299823761 and 0.5712890625\n",
            "Running epoch 23 of 50\n",
            "The training loss and training accuracy is 0.8774541616439819 and 0.5638672113418579\n",
            "Running epoch 24 of 50\n",
            "The training loss and training accuracy is 0.8937059640884399 and 0.563671886920929\n",
            "Running epoch 25 of 50\n",
            "The training loss and training accuracy is 0.8883310556411743 and 0.563671886920929\n",
            "Running epoch 26 of 50\n",
            "The training loss and training accuracy is 0.8891441226005554 and 0.5654296875\n",
            "Running epoch 27 of 50\n",
            "The training loss and training accuracy is 0.8777713775634766 and 0.580273449420929\n",
            "Running epoch 28 of 50\n",
            "The training loss and training accuracy is 0.8761470913887024 and 0.559765636920929\n",
            "Running epoch 29 of 50\n",
            "The training loss and training accuracy is 0.8892674446105957 and 0.572070300579071\n",
            "Running epoch 30 of 50\n",
            "The training loss and training accuracy is 0.8786076307296753 and 0.5716797113418579\n",
            "Running epoch 31 of 50\n",
            "The training loss and training accuracy is 0.8747304677963257 and 0.572265625\n",
            "Running epoch 32 of 50\n",
            "The training loss and training accuracy is 0.874890148639679 and 0.567578136920929\n",
            "Running epoch 33 of 50\n",
            "The training loss and training accuracy is 0.8747736215591431 and 0.578906238079071\n",
            "Running epoch 34 of 50\n",
            "The training loss and training accuracy is 0.8720403909683228 and 0.5621093511581421\n",
            "Running epoch 35 of 50\n",
            "The training loss and training accuracy is 0.8844280242919922 and 0.571484386920929\n",
            "Running epoch 36 of 50\n",
            "The training loss and training accuracy is 0.8734817504882812 and 0.5736328363418579\n",
            "Running epoch 37 of 50\n",
            "The training loss and training accuracy is 0.8752142190933228 and 0.5599609613418579\n",
            "Running epoch 38 of 50\n",
            "The training loss and training accuracy is 0.8832853436470032 and 0.5619140863418579\n",
            "Running epoch 39 of 50\n",
            "The training loss and training accuracy is 0.8881908655166626 and 0.579882800579071\n",
            "Running epoch 40 of 50\n",
            "The training loss and training accuracy is 0.8666703104972839 and 0.5726562738418579\n",
            "Running epoch 41 of 50\n",
            "The training loss and training accuracy is 0.8752098083496094 and 0.569140613079071\n",
            "Running epoch 42 of 50\n",
            "The training loss and training accuracy is 0.8714326620101929 and 0.5654296875\n",
            "Running epoch 43 of 50\n",
            "The training loss and training accuracy is 0.8677574396133423 and 0.5787109136581421\n",
            "Running epoch 44 of 50\n",
            "The training loss and training accuracy is 0.8662250638008118 and 0.576171875\n",
            "Running epoch 45 of 50\n",
            "The training loss and training accuracy is 0.8684136271476746 and 0.576171875\n",
            "Running epoch 46 of 50\n",
            "The training loss and training accuracy is 0.8655349016189575 and 0.5716797113418579\n",
            "Running epoch 47 of 50\n",
            "The training loss and training accuracy is 0.8706493377685547 and 0.579296886920929\n",
            "Running epoch 48 of 50\n",
            "The training loss and training accuracy is 0.8684554100036621 and 0.5748046636581421\n",
            "Running epoch 49 of 50\n",
            "The training loss and training accuracy is 0.866224467754364 and 0.580859363079071\n",
            "Running epoch 50 of 50\n",
            "The training loss and training accuracy is 0.8709821701049805 and 0.572070300579071\n"
          ]
        },
        {
          "name": "stderr",
          "output_type": "stream",
          "text": [
            "/home/valicia/miniconda3/envs/ml/lib/python3.9/site-packages/torchmetrics/utilities/prints.py:36: UserWarning: No negative samples in targets, false positive value should be meaningless. Returning zero tensor in false positive score\n",
            "  warnings.warn(*args, **kwargs)\n"
          ]
        },
        {
          "name": "stdout",
          "output_type": "stream",
          "text": [
            "batch number is 39.0\n",
            "Test accuracy: 0.5633012652397156\n",
            "f1 scores is [0.0141166  0.         0.465128   0.18976833]\n",
            "AUC is [0.01432575 0.01858974 0.0471464  0.02398676]\n"
          ]
        },
        {
          "data": {
            "image/png": "[encoded data removed]",
            "text/plain": [
              "<Figure size 1300x300 with 2 Axes>"
            ]
          },
          "metadata": {},
          "output_type": "display_data"
        },
        {
          "name": "stdout",
          "output_type": "stream",
          "text": [
            "The test accuracy is: [0.56330127]\n"
          ]
        }
      ],
      "source": [
        "if __name__ == \"__main__\":\n",
        "  main()"
      ]
    },
    {
      "cell_type": "code",
      "execution_count": 1,
      "metadata": {},
      "outputs": [
        {
          "ename": "NameError",
          "evalue": "name 'transforms' is not defined",
          "output_type": "error",
          "traceback": [
            "\u001b[0;31m---------------------------------------------------------------------------\u001b[0m",
            "\u001b[0;31mNameError\u001b[0m                                 Traceback (most recent call last)",
            "\u001b[1;32m/home/cis_project/final_project_agnes.ipynb Cell 10\u001b[0m in \u001b[0;36m<cell line: 1>\u001b[0;34m()\u001b[0m\n\u001b[0;32m----> <a href='vscode-notebook-cell://ssh-remote%2B172.24.71.1/home/cis_project/final_project_agnes.ipynb#X12sdnNjb2RlLXJlbW90ZQ%3D%3D?line=0'>1</a>\u001b[0m transform \u001b[39m=\u001b[39m transforms\u001b[39m.\u001b[39mCompose(\n\u001b[1;32m      <a href='vscode-notebook-cell://ssh-remote%2B172.24.71.1/home/cis_project/final_project_agnes.ipynb#X12sdnNjb2RlLXJlbW90ZQ%3D%3D?line=1'>2</a>\u001b[0m       [transforms\u001b[39m.\u001b[39mResize((\u001b[39m256\u001b[39m,\u001b[39m256\u001b[39m)),\n\u001b[1;32m      <a href='vscode-notebook-cell://ssh-remote%2B172.24.71.1/home/cis_project/final_project_agnes.ipynb#X12sdnNjb2RlLXJlbW90ZQ%3D%3D?line=2'>3</a>\u001b[0m        transforms\u001b[39m.\u001b[39mCenterCrop(\u001b[39m224\u001b[39m),\n\u001b[1;32m      <a href='vscode-notebook-cell://ssh-remote%2B172.24.71.1/home/cis_project/final_project_agnes.ipynb#X12sdnNjb2RlLXJlbW90ZQ%3D%3D?line=3'>4</a>\u001b[0m        transforms\u001b[39m.\u001b[39mRandomHorizontalFlip(\u001b[39m0.4\u001b[39m),\n\u001b[1;32m      <a href='vscode-notebook-cell://ssh-remote%2B172.24.71.1/home/cis_project/final_project_agnes.ipynb#X12sdnNjb2RlLXJlbW90ZQ%3D%3D?line=4'>5</a>\u001b[0m        transforms\u001b[39m.\u001b[39mRandomVerticalFlip(\u001b[39m0.2\u001b[39m),\n\u001b[1;32m      <a href='vscode-notebook-cell://ssh-remote%2B172.24.71.1/home/cis_project/final_project_agnes.ipynb#X12sdnNjb2RlLXJlbW90ZQ%3D%3D?line=5'>6</a>\u001b[0m        transforms\u001b[39m.\u001b[39mRandomAffine(\u001b[39m40\u001b[39m),\n\u001b[1;32m      <a href='vscode-notebook-cell://ssh-remote%2B172.24.71.1/home/cis_project/final_project_agnes.ipynb#X12sdnNjb2RlLXJlbW90ZQ%3D%3D?line=6'>7</a>\u001b[0m        transforms\u001b[39m.\u001b[39mToTensor(),\n\u001b[1;32m      <a href='vscode-notebook-cell://ssh-remote%2B172.24.71.1/home/cis_project/final_project_agnes.ipynb#X12sdnNjb2RlLXJlbW90ZQ%3D%3D?line=7'>8</a>\u001b[0m        transforms\u001b[39m.\u001b[39mNormalize((\u001b[39m0.485\u001b[39m, \u001b[39m0.456\u001b[39m, \u001b[39m0.406\u001b[39m), (\u001b[39m0.229\u001b[39m, \u001b[39m0.224\u001b[39m, \u001b[39m0.225\u001b[39m))\n\u001b[1;32m      <a href='vscode-notebook-cell://ssh-remote%2B172.24.71.1/home/cis_project/final_project_agnes.ipynb#X12sdnNjb2RlLXJlbW90ZQ%3D%3D?line=8'>9</a>\u001b[0m        ]) \n\u001b[1;32m     <a href='vscode-notebook-cell://ssh-remote%2B172.24.71.1/home/cis_project/final_project_agnes.ipynb#X12sdnNjb2RlLXJlbW90ZQ%3D%3D?line=11'>12</a>\u001b[0m alex_net\u001b[39m.\u001b[39mload_state_dict(torch\u001b[39m.\u001b[39mload(\u001b[39m\"\u001b[39m\u001b[39malex.pth\u001b[39m\u001b[39m\"\u001b[39m))\n\u001b[1;32m     <a href='vscode-notebook-cell://ssh-remote%2B172.24.71.1/home/cis_project/final_project_agnes.ipynb#X12sdnNjb2RlLXJlbW90ZQ%3D%3D?line=12'>13</a>\u001b[0m alex_net\u001b[39m.\u001b[39meval()\n",
            "\u001b[0;31mNameError\u001b[0m: name 'transforms' is not defined"
          ]
        }
      ],
      "source": [
        "transform = transforms.Compose(\n",
        "      [transforms.Resize((256,256)),\n",
        "       transforms.CenterCrop(224),\n",
        "       transforms.RandomHorizontalFlip(0.4),\n",
        "       transforms.RandomVerticalFlip(0.2),\n",
        "       transforms.RandomAffine(40),\n",
        "       transforms.ToTensor(),\n",
        "       transforms.Normalize((0.485, 0.456, 0.406), (0.229, 0.224, 0.225))\n",
        "       ]) \n",
        "\n",
        "\n",
        "alex_net.load_state_dict(torch.load(\"alex.pth\"))\n",
        "alex_net.eval()\n",
        "testset = torchvision.datasets.ImageFolder(root='data/test',transform=transform)\n",
        "test_dl = torch.utils.data.DataLoader(testset, batch_size=1279,shuffle=False,drop_last=True)\n",
        "f1_result,auc_result = 0,0\n",
        "batch_num = 0.0\n",
        "for ix,batch in enumerate(test_dl):\n",
        "      x,y = batch\n",
        "      x,y = x.cuda(),y.cuda()\n",
        "      prediction = alex_net(x)\n",
        "      f1 = MulticlassF1Score(num_classes=4,average=None).cuda()\n",
        "      f1_score = f1(prediction,y)\n",
        "      auc = MulticlassAUROC(num_classes=4, average=None, thresholds=None).cuda()\n",
        "      auc_score = auc(prediction,y)\n",
        "      f1_result+=f1_score.cpu().numpy()\n",
        "      auc_result+=auc_score.cpu().numpy()\n",
        "      batch_num +=1\n",
        "print(f\"average f1 scores is {f1_result/batch_num}\")\n",
        "print(f\"average auc is {auc_result/batch_num}\")"
      ]
    }
  ],
  "metadata": {
    "accelerator": "GPU",
    "colab": {
      "collapsed_sections": [],
      "provenance": []
    },
    "kernelspec": {
      "display_name": "ml",
      "language": "python",
      "name": "python3"
    },
    "language_info": {
      "codemirror_mode": {
        "name": "ipython",
        "version": 3
      },
      "file_extension": ".py",
      "mimetype": "text/x-python",
      "name": "python",
      "nbconvert_exporter": "python",
      "pygments_lexer": "ipython3",
      "version": "3.9.13"
    },
    "vscode": {
      "interpreter": {
        "hash": "faf84c1c0da7cf82642f153c4dbf81afdc2c025ddbe7b73d4f2f810deae4e107"
      }
    }
  },
  "nbformat": 4,
  "nbformat_minor": 0
}
